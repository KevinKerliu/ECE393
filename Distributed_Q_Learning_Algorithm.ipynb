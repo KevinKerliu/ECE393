{
  "nbformat": 4,
  "nbformat_minor": 0,
  "metadata": {
    "colab": {
      "name": "Distributed Q-Learning Algorithm",
      "provenance": [],
      "collapsed_sections": [
        "MqbgMVt67o1y"
      ]
    },
    "kernelspec": {
      "name": "python3",
      "display_name": "Python 3"
    }
  },
  "cells": [
    {
      "cell_type": "markdown",
      "metadata": {
        "id": "0XTl8qvvLOJw"
      },
      "source": [
        "#Distributed_QLearning_Algorithm"
      ]
    },
    {
      "cell_type": "code",
      "metadata": {
        "id": "tNALWLweNYp3"
      },
      "source": [
        "import numpy as np\n",
        "from numpy import random\n",
        "import matplotlib.pyplot as plt\n",
        "\n",
        "# SINR_X_UL\n",
        "def SINR_X_UL(P_SU):  \n",
        "  # if (np.sum(P_SU) == 0 ):\n",
        "  #   print(\"P_SU:\", P_SU)\n",
        "  return 90 - np.sum(P_SU)\n",
        "\n",
        "# Costs\n",
        "def cost(SINR_ij,SINR_th):\n",
        "  return (SINR_ij - SINR_th)**2\n",
        "\n",
        "\n",
        "def cost_abs(SINR_ij,SINR_th):\n",
        "    return abs(SINR_ij - SINR_th)\n",
        "\n",
        "\n",
        "def cost_4(SINR_ij,SINR_th):\n",
        "    return (SINR_ij - SINR_th)**4\n",
        "\n",
        "# p_mat Function\n",
        "def create_p_mat(current_states,omitted_state,P):\n",
        "  p_vec = np.zeros(len(current_states))\n",
        "  for i in range(0,len(current_states)):\n",
        "    p_vec[i] = P[current_states[i]]\n",
        "  p_mat = np.zeros((len(P),len(current_states)))\n",
        "  for i in range(0,len(P)):\n",
        "    p_mat[i,:] = p_vec\n",
        "  p_mat[:,omitted_state] = P\n",
        "  return p_mat\n",
        "  \n",
        "def create_p_vec(current_states,P):\n",
        "  p_vec = np.zeros((len(current_states),1))\n",
        "  for i in range(0,len(current_states)):\n",
        "    p_vec[i] = P[current_states[i]]\n",
        "  return p_vec\n",
        "\n",
        "  \n",
        "#Parameters\n",
        "alpha = 0.5\n",
        "gamma = 0.9\n",
        "epsilon = 0.1\n",
        "n_iterations = 20000\n",
        "P = [-80,-50.3,-30.2,10.1,29.8] # P: set of possible power levels (p), P = {p1...pl}\n",
        "n_states = len(P)\n",
        "SINR_th = 23\n",
        "num_SU = 2\n",
        "\n",
        "\n",
        "# Q Matrix\n",
        "Q = np.zeros((n_states,n_states,num_SU))\n",
        "Q_iterations = np.zeros((n_states,n_states,n_iterations+1,num_SU))\n",
        "SINR_iterations1 = np.zeros((n_iterations,1))\n",
        "\n",
        "# Reward Matrix\n",
        "SINR_vec = np.zeros(n_states)\n",
        "for i in range (0,n_states):\n",
        "  SINR_vec[i] = SINR_X_UL(P[i])\n",
        "\n",
        "cost_vec = cost(SINR_vec,SINR_th) # (Difference^2)\n",
        "# cost_vec = cost_abs(SINR_vec,SINR_th) # (|Difference|)\n",
        "# cost_vec = cost_4(SINR_vec,SINR_th) # (Difference^4)\n",
        "\n",
        "R = np.zeros((n_states,n_states,num_SU));\n",
        "\n",
        "# Q-Learning Algorithm\n",
        "state = random.randint(len(R[0,:,0]), size=num_SU);\n",
        "action = np.zeros(num_SU);\n",
        "for i in range(0,n_iterations):\n",
        "  for k in range(0,num_SU):\n",
        "      # Create R matrix holding other states constant\n",
        "      p_mat = create_p_mat(state,k,P);\n",
        "      for j in range(0,len(P)):\n",
        "          SINR_vec[j] = SINR_X_UL(p_mat[j,:]);\n",
        "      cost_vec = cost(SINR_vec,SINR_th);\n",
        "      for j in range(0,n_states):\n",
        "              R[j,:,k] = cost_vec;\n",
        "      \n",
        "      # Random Greedy Algorithm choice for next Action\n",
        "      random_greedy = random.rand(1);\n",
        "      if random_greedy < epsilon:\n",
        "          action[k] = random.randint(len(R[0,:,0]));\n",
        "      else:\n",
        "          Q[np.isnan(Q)] = 0\n",
        "          min_Q = np.min(Q[state[k],:,k]);\n",
        "          possible = np.where(Q[state[k],:,k] == min_Q)\n",
        "          action[k] =  possible[0][random.randint(len(possible[0]))];\n",
        "\n",
        "      # Calculating Q and Stochastic Gradiant Descent \n",
        "      min_next_Q = np.min(Q[int(action[k]),:,k]);\n",
        "      discount = gamma*min_next_Q;\n",
        "      delta_Q = alpha*(R[state[k],int(action[k]),k] + discount - Q[state[k],int(action[k]),k]);\n",
        "      Q[state[k],int(action[k]),k] = Q[state[k],int(action[k]),k] + delta_Q;\n",
        "      Q_iterations[:,:,i+1,k] = Q[:,:,k];\n",
        "      state[k] = action[k];\n",
        "  SINR_iterations1[i] = SINR_X_UL(create_p_vec(state,P))\n",
        "\n",
        "cost_iterations1 = np.zeros((n_iterations,1));\n",
        "for i in range(0,n_iterations):\n",
        "  cost_iterations1[i] = cost(SINR_iterations1[i],SINR_th);\n",
        "\n",
        "# Normalize final Q table\n",
        "normalized_Q = np.zeros((n_states,n_states,num_SU))\n",
        "for k in range(0,num_SU):\n",
        "  normal_factor = 100/np.max(Q[:,:,k])\n",
        "  normalized_Q[:,:,k]  = np.rint(normal_factor*Q[:,:,k])"
      ],
      "execution_count": null,
      "outputs": []
    },
    {
      "cell_type": "code",
      "metadata": {
        "colab": {
          "base_uri": "https://localhost:8080/",
          "height": 513
        },
        "id": "dBCg-IbyMKIl",
        "outputId": "14a19e6e-b5af-4776-91cb-941331c3e4cf"
      },
      "source": [
        "plt.plot(SINR_iterations1)\n",
        "plt.show()\n",
        "plt.plot(cost_iterations1)\n",
        "plt.show()"
      ],
      "execution_count": null,
      "outputs": [
        {
          "output_type": "display_data",
          "data": {
            "image/png": "[encoded data removed]",
            "text/plain": [
              "<Figure size 432x288 with 1 Axes>"
            ]
          },
          "metadata": {
            "tags": [],
            "needs_background": "light"
          }
        },
        {
          "output_type": "display_data",
          "data": {
            "image/png": "[encoded data removed]",
            "text/plain": [
              "<Figure size 432x288 with 1 Axes>"
            ]
          },
          "metadata": {
            "tags": [],
            "needs_background": "light"
          }
        }
      ]
    },
    {
      "cell_type": "code",
      "metadata": {
        "id": "gbY6mV-SWHil",
        "colab": {
          "base_uri": "https://localhost:8080/",
          "height": 265
        },
        "outputId": "6b3b3c92-8478-4310-ce78-f786a4bfcb90"
      },
      "source": [
        "# Plots \n",
        "\n",
        "Q_plot_1 = Q_iterations[1,1,:,0]\n",
        "Q_plot_2 = Q_iterations[1,1,:,1]\n",
        "\n",
        "plt.plot(Q_plot_1)\n",
        "plt.plot(Q_plot_2)\n",
        "plt.show()"
      ],
      "execution_count": null,
      "outputs": [
        {
          "output_type": "display_data",
          "data": {
            "image/png": "[encoded data removed]",
            "text/plain": [
              "<Figure size 432x288 with 1 Axes>"
            ]
          },
          "metadata": {
            "tags": [],
            "needs_background": "light"
          }
        }
      ]
    },
    {
      "cell_type": "code",
      "metadata": {
        "id": "Pt_6qBblUvsA"
      },
      "source": [
        "def moving_average(a):\n",
        "  l = len(a[:])\n",
        "  b = np.zeros(l)\n",
        "  for i in range(l):\n",
        "    b[i] = np.mean(a[0:i+1])\n",
        "  return b"
      ],
      "execution_count": null,
      "outputs": []
    },
    {
      "cell_type": "code",
      "metadata": {
        "colab": {
          "base_uri": "https://localhost:8080/"
        },
        "id": "QFq6A-qW4kWP",
        "outputId": "def8e4d9-ccae-41ee-8fbd-5828624b7161"
      },
      "source": [
        "print(np.mean(Q_plot_1[10000:20000]))\n",
        "print(np.mean(Q_plot_2[10000:20000]))"
      ],
      "execution_count": null,
      "outputs": [
        {
          "output_type": "stream",
          "text": [
            "35017.98877449526\n",
            "20399.90922564901\n"
          ],
          "name": "stdout"
        }
      ]
    },
    {
      "cell_type": "code",
      "metadata": {
        "colab": {
          "base_uri": "https://localhost:8080/",
          "height": 265
        },
        "id": "-Xn1-HIM8zRF",
        "outputId": "edee2dce-2477-4159-b410-9e8998f8d7ed"
      },
      "source": [
        "plt.plot(moving_average(Q_plot_1))\n",
        "plt.plot(moving_average(Q_plot_2))\n",
        "plt.show()"
      ],
      "execution_count": null,
      "outputs": [
        {
          "output_type": "display_data",
          "data": {
            "image/png": "[encoded data removed]",
            "text/plain": [
              "<Figure size 432x288 with 1 Axes>"
            ]
          },
          "metadata": {
            "tags": [],
            "needs_background": "light"
          }
        }
      ]
    },
    {
      "cell_type": "code",
      "metadata": {
        "id": "AcZcm-VNB5k_"
      },
      "source": [
        "# starting_state = random.randint(len(R[1,:]));\n",
        "# end_Q = useQ(normalized_Q,starting_state,2)\n",
        "# end_Q"
      ],
      "execution_count": null,
      "outputs": []
    },
    {
      "cell_type": "markdown",
      "metadata": {
        "id": "MqbgMVt67o1y"
      },
      "source": [
        "# Modified Q-Learning"
      ]
    },
    {
      "cell_type": "code",
      "metadata": {
        "id": "--B3kA147ZkI"
      },
      "source": [
        "import numpy as np\n",
        "from numpy import random\n",
        "import matplotlib.pyplot as plt\n",
        "\n",
        "# SINR_X_UL\n",
        "def SINR_X_UL(P_SU):\n",
        "  P_DTV = 90\n",
        "  var = 0\n",
        "\n",
        "  h_DTV = 1\n",
        "  h_SU = 1  \n",
        "\n",
        "  return (P_DTV*h_DTV) / (var + np.sum(P_SU*h_SU))\n",
        "\n",
        "\n",
        "# Costs\n",
        "def cost(SINR_ij,SINR_th):\n",
        "  return (SINR_ij - SINR_th)**2\n",
        "\n",
        "def cost_abs(SINR_ij,SINR_th):\n",
        "    return abs(SINR_ij - SINR_th)\n",
        "\n",
        "def cost_4(SINR_ij,SINR_th):\n",
        "    return (SINR_ij - SINR_th)**4\n",
        "\n",
        "# p_mat Function\n",
        "def create_p_mat(current_states,omitted_state,P):\n",
        "  p_vec = np.zeros(len(current_states))\n",
        "  for i in range(0,len(current_states)):\n",
        "    p_vec[i] = P[current_states[i]]\n",
        "  p_mat = np.zeros((len(P),len(current_states)))\n",
        "  for i in range(0,len(P)):\n",
        "    p_mat[i,:] = p_vec\n",
        "  p_mat[:,omitted_state] = P\n",
        "  return p_mat\n",
        "\n",
        "\n",
        "#Parameters\n",
        "alpha = 0.5\n",
        "gamma = 0.9\n",
        "epsilon = 0.1\n",
        "n_iterations = 6000\n",
        "P = [-80,-50,-30,10,29.8] # P: set of possible power levels (p), P = {p1...pl}\n",
        "n_states = len(P)\n",
        "SINR_th = 23\n",
        "num_SU = 10\n",
        "\n",
        "\n",
        "# Q Matrix\n",
        "Q = np.zeros((n_states,n_states,num_SU))\n",
        "Q_iterations = np.zeros((n_states,n_states,n_iterations+1,num_SU))\n",
        "\n",
        "\n",
        "# Reward Matrix\n",
        "SINR_vec = np.zeros(n_states)\n",
        "for i in range (0,n_states):\n",
        "  SINR_vec[i] = SINR_X_UL(P[i])\n",
        "\n",
        "cost_vec = cost(SINR_vec,SINR_th) # (Difference^2)\n",
        "# cost_vec = cost_abs(SINR_vec,SINR_th) # (|Difference|)\n",
        "# cost_vec = cost_4(SINR_vec,SINR_th) # (Difference^4)\n",
        "\n",
        "R = np.zeros((n_states,n_states,num_SU));\n",
        "\n",
        "\n",
        "\n",
        "# Q-Learning Algorithm\n",
        "state = random.randint(len(R[1,:,1]), size=num_SU);\n",
        "action = np.zeros(num_SU);\n",
        "for i in range(0,n_iterations):\n",
        "    for k in range(0,num_SU):\n",
        "        # Create R matrix holding other states constant\n",
        "        p_mat = create_p_mat(state,k,P);\n",
        "        for j in range(0,len(P)):\n",
        "            SINR_vec[j] = SINR_X_UL(p_mat[j,:]);\n",
        "        cost_vec = cost(SINR_vec,SINR_th);\n",
        "        for j in range(0,n_states):\n",
        "                R[j,:,k] = cost_vec;\n",
        "        \n",
        "        # Random Greedy Algorithm choice for next Action\n",
        "        random_greedy = random.rand(1);\n",
        "        if random_greedy < epsilon:\n",
        "            action[k] = random.randint(len(R[1,:,1]));\n",
        "        else:\n",
        "            min_Q = np.min(Q[state[k],:,k]);\n",
        "            possible = np.where(Q[state[k],:,k] == min_Q)\n",
        "            action[k] =  possible[0][random.randint(len(possible[0]))];\n",
        "\n",
        "        \n",
        "        # Calculating Q and Stochastic Gradiant Descent \n",
        "        min_next_Q = np.min(Q[int(action[k]),:,k]);\n",
        "        discount = gamma*min_next_Q;\n",
        "        delta_Q = alpha*(R[state[k],int(action[k]),k] + discount - Q[state[k],int(action[k]),k]);\n",
        "        Q[state[k],int(action[k]),k] = Q[state[k],int(action[k]),k] + delta_Q;\n",
        "        Q_iterations[:,:,i+1,k] = Q[:,:,k];\n",
        "        state[k] = action[k];\n",
        "\n",
        "# Normalize final Q table\n",
        "normalized_Q = np.zeros((n_states,n_states,num_SU))\n",
        "for k in range(0,num_SU):\n",
        "  normal_factor = 100/np.max(Q[:,:,k])\n",
        "  normalized_Q[:,:,k]  = np.rint(normal_factor*Q[:,:,k])\n",
        "\n",
        "# Plots \n",
        "\n",
        "Q_plot_1 = Q_iterations[3,1,:,1]\n",
        "Q_plot_2 = Q_iterations[1,2,:,4]\n",
        "\n",
        "plt.plot(Q_plot_1)\n",
        "plt.plot(Q_plot_2)\n",
        "plt.show()\n",
        "# Differences from example: greedy approach, any state can take any action.\n",
        "\n",
        "# starting_state = randi(length(R(1,:)));\n",
        "# end_Q = useQ(normalized_Q,starting_state);\n",
        "\n"
      ],
      "execution_count": null,
      "outputs": []
    },
    {
      "cell_type": "markdown",
      "metadata": {
        "id": "HvDorgvN1amG"
      },
      "source": [
        "# GNU Radio block"
      ]
    },
    {
      "cell_type": "code",
      "metadata": {
        "id": "TwDDVmF31Z16"
      },
      "source": [
        "def moving_average(a):\n",
        "  l = len(a[:])\n",
        "  for i in range(l):\n",
        "    b[i] = np.mean(a[0:i+1])\n",
        "  return b# from gnuradio import gr\n",
        "import numpy as np\n",
        "from numpy import random\n",
        "import matplotlib.pyplot as plt\n",
        "\n",
        "class QLearning(gr.sync_block): \n",
        "  # Hyper-parameters\n",
        "  self.alpha = 0.5\n",
        "  self.gamma = 0.9\n",
        "  self.epsilon = 0.1\n",
        "  self.n_iterations = 3000\n",
        "  self.SINR_th = 23 #15 to 20\n",
        "  self.num_SU = 1\n",
        "  self.P = [-80,-50,-30,10.1,29.8]\n",
        "  self.n_states = len(P)\n",
        "\n",
        "  # self.Gain = [15,16,17,18,19,20]\n",
        "  # self.Gain = [-20, -10, 10, 15, 17.5, 20, 30, 40, 50]\n",
        "\n",
        "  # Costs\n",
        "  # def cost(self,SINR_ij,SINR_th):\n",
        "  #     return abs(SINR_ij - SINR_th)\n",
        "  def cost(self,SINR_ij,SINR_th):\n",
        "    return (SINR_ij - SINR_th)**2\n",
        "  # def cost(self,SINR_i  j,SINR_th):\n",
        "  #     return (SINR_ij - SINR_th)**4\n",
        "\n",
        "  # SINR_X_UL\n",
        "  def SINR_X_UL(self,P_SU): \n",
        "    P_PU = 1\n",
        "    return P_PU - np.sum(P_SU) # should be subtraction\n",
        "\n",
        "  # p_mat Function\n",
        "  def create_p_mat(self,current_states,omitted_state,P):\n",
        "    p_vec = np.zeros(len(current_states))\n",
        "    for i in range(0,len(current_states)):\n",
        "      p_vec[i] = P[current_states[i]]\n",
        "    p_mat = np.zeros((len(P),len(current_states)))\n",
        "    for i in range(0,len(P)):\n",
        "      p_mat[i,:] = p_vec\n",
        "    p_mat[:,omitted_state] = P\n",
        "    return p_mat\n",
        "\n",
        "  # Final State Function\n",
        "  def useQ(self,Q,starting_state,SU):\n",
        "    final_state = starting_state\n",
        "    for i in range(0,10):\n",
        "        min_Q = np.min(Q[final_state,:,SU])\n",
        "        possible = np.where(Q[final_state,:,SU] == min_Q)\n",
        "        action = possible[0][random.randint(len(possible[0]))]\n",
        "        if (Q[final_state,action,SU] == Q.min()):\n",
        "            return action\n",
        "        else:\n",
        "            return action\n",
        "\n",
        "  def __init__(self,*args,**kwargs):  \n",
        "    gr.sync_block.__init__(self, name='QLearning', in_sig=[complex], out_sig=[complex])\n",
        "    # Q Matrix\n",
        "    self.Q = np.zeros((self.n_states,self.n_states,self.num_SU))\n",
        "    self.Q_iterations = np.zeros((self.n_states,self.n_states,self.n_iterations+1,self.num_SU))\n",
        "\n",
        "    # SINR Vector\n",
        "    self.SINR_vec = np.zeros(self.n_states)\n",
        "    for i in range (0,self.n_states):\n",
        "      self.SINR_vec[i] = self.SINR_X_UL(P[i])\n",
        "\n",
        "    # Cost Vector\n",
        "    # self.cost_vec = self.cost(self.SINR_vec,self.SINR_th) # (|Difference|)\n",
        "    self.cost_vec = self.cost(self.SINR_vec,self.SINR_th) # (Difference^2)\n",
        "    # self.cost_vec = self.cost(self.SINR_vec,self.SINR_th) # (Difference^4)\n",
        "\n",
        "    # Reward Matrix\n",
        "    self.R = np.zeros((self.n_states,self.n_states,self.num_SU));\n",
        "\n",
        "\n",
        "  # figure out the for loop stuff bro\n",
        "  def work(self, in_SINR, out_power):\n",
        "    # Q-Learning Algorithm\n",
        "    state = random.randint(len(self.R[1,:,1]), size=self.num_SU);\n",
        "    action = np.zeros(self.num_SU);\n",
        "    for i in range(0,self.n_iterations):\n",
        "        for k in range(0,self.num_SU):\n",
        "          # Create R matrix holding other states constant\n",
        "          p_mat = self.create_p_mat(state,k,self.P);\n",
        "          for j in range(0,self.n_states):\n",
        "            self.SINR_vec[j] = self.SINR_X_UL(p_mat[j,:]);\n",
        "\n",
        "          self.cost_vec = self.cost(self.SINR_vec,self.SINR_th);\n",
        "          for j in range(0,self.n_states):\n",
        "            self.R[j,:,k] = self.cost_vec;\n",
        "          \n",
        "          # Random Greedy Algorithm choice for next Action\n",
        "          random_greedy = random.rand(1);\n",
        "          if random_greedy < epsilon:\n",
        "            action[k] = random.randint(len(self.R[1,:,1]));\n",
        "          else:\n",
        "            self.Q[np.isnan(self.Q)] = 0\n",
        "            min_Q = np.min(self.Q[state[k],:,k]);\n",
        "            possible = np.where(self.Q[state[k],:,k] == min_Q)\n",
        "            action[k] =  possible[0][random.randint(len(possible[0]))];\n",
        "\n",
        "          \n",
        "          # Calculating Q and Stochastic Gradiant Descent \n",
        "          min_next_Q = np.min(self.Q[int(action[k]),:,k]);\n",
        "          discount = self.gamma*min_next_Q;\n",
        "          delta_Q = self.alpha*(self.R[state[k],int(action[k]),k] + discount - self.Q[state[k],int(action[k]),k]);\n",
        "          self.Q[state[k],int(action[k]),k] = self.Q[state[k],int(action[k]),k] + delta_Q;\n",
        "          self.Q_iterations[:,:,i+1,k] = self.Q[:,:,k];\n",
        "          state[k] = action[k];\n",
        "\n",
        "    # Normalize final Q table\n",
        "    normalized_Q = np.zeros((n_states,n_states,num_SU))\n",
        "    for k in range(0,self.num_SU):\n",
        "      normal_factor = 100/np.max(Q[:,:,k])\n",
        "      normalized_Q[:,:,k]  = np.rint(normal_factor*self.Q[:,:,k])\n",
        "\n",
        "    # out \n",
        "\n",
        "    # Plots \n",
        "    Q_plot_1 = Q_iterations[3,1,:,0]\n",
        "    plt.plot(Q_plot_1)\n",
        "    plt.show()"
      ],
      "execution_count": null,
      "outputs": []
    }
  ]
}